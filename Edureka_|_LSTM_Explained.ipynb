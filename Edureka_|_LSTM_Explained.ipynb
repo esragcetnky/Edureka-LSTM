{
  "nbformat": 4,
  "nbformat_minor": 0,
  "metadata": {
    "colab": {
      "name": "Edureka | LSTM Explained.ipynb",
      "provenance": [],
      "authorship_tag": "ABX9TyO4yipMMQWkD3+UbGldvL1C",
      "include_colab_link": true
    },
    "kernelspec": {
      "name": "python3",
      "display_name": "Python 3"
    },
    "language_info": {
      "name": "python"
    }
  },
  "cells": [
    {
      "cell_type": "markdown",
      "metadata": {
        "id": "view-in-github",
        "colab_type": "text"
      },
      "source": [
        "<a href=\"https://colab.research.google.com/github/esragcetnky/Edureka-LSTM/blob/main/Edureka_%7C_LSTM_Explained.ipynb\" target=\"_parent\"><img src=\"https://colab.research.google.com/assets/colab-badge.svg\" alt=\"Open In Colab\"/></a>"
      ]
    },
    {
      "cell_type": "markdown",
      "metadata": {
        "id": "U4wIy-NX9gcN"
      },
      "source": [
        "# 1.What is NLP?"
      ]
    },
    {
      "cell_type": "markdown",
      "metadata": {
        "id": "jh5oRxEe9lq_"
      },
      "source": [
        "* concerned with the interactions between computers and human language\n",
        "* how to program computers to process and analyze large amounts of natural language data"
      ]
    },
    {
      "cell_type": "markdown",
      "metadata": {
        "id": "nq6qpdjm-A1C"
      },
      "source": [
        "# 2.Ways to Process Text Data"
      ]
    },
    {
      "cell_type": "markdown",
      "metadata": {
        "id": "dvXyJs2f-J9I"
      },
      "source": [
        "*  1.machine learning\n",
        "* 2.deep learning\n",
        "      LSTM\n",
        "      Neural Network\n",
        "      RNN\n",
        "      Transfer network\n"
      ]
    },
    {
      "cell_type": "markdown",
      "metadata": {
        "id": "nn_oP547-_HR"
      },
      "source": [
        "# 3.Recurrent Neural Network"
      ]
    },
    {
      "cell_type": "markdown",
      "metadata": {
        "id": "wv3fmLE0AHwU"
      },
      "source": [
        "* designed to recognize a data's sequential characteristics and use patterns to predict the next likely scenario\n",
        "* sequential data : \n",
        "* states\n",
        "* X : inputs \n",
        "      X=[URI, IS, A, REALLY, GOOD, MOVIE]\n",
        "* y : training values\n",
        "* y̅ : predicted values\n",
        "* a : \n",
        "      a[0]= URI\n",
        "      a[1]:= URI IS\n",
        "      .\n",
        "      .\n",
        "      .\n",
        "      a[N]= URI IS A REALLY GOOD MOVIE\n",
        "* u : is equal for everyone\n",
        "* w : weights\n",
        "* v\n",
        "* activation function :tanh\n",
        "      a<t>  = tanh ( (X * u) + (a * w) )\n",
        "      y<t> = sigmoid ( ( a<t> * v ) + bias ) or softmax ( ( a<t> * v ) + bias )\n",
        "      loss = np.sum((y̅ - y)*theta)\n",
        "* embedding layer\n",
        "      embedding matrix\n",
        "      which is like filters or kernels in cnn\n",
        "      it is helps to reduce size\n",
        "![](https://drive.google.com/uc?export=view&id=17FfSgboFdXUFz4H65NW3ixRm8kVQ4Iw6)"
      ]
    },
    {
      "cell_type": "markdown",
      "metadata": {
        "id": "sRVRJX7MJ3iN"
      },
      "source": [
        "# 4.LSTM"
      ]
    },
    {
      "cell_type": "markdown",
      "metadata": {
        "id": "heSzPlu2KAlL"
      },
      "source": [
        " * vanishing gradient problemi için çözüm getiriyor.\n",
        " * lstm rnnlerin hidden layerlarına yapılan modifikasyonla oluşturulmuştur.\n",
        " * vanishing gradient problem : weightleri güncellemek için kullanılan gradientlar çok derin sinir ağlarında zamanla gradientler kaybolur (vanishes) bundan dolayı ağ weightleri güncelleyemez hatta bazen ağ tamamen çalışamaz hale gelir\n",
        " * lstm has feedback connections.It can not only process single data points, but also entire sequences of data.\n",
        " * lstm bu sorunları çözmek için 3 gate kullanır\n",
        "        1. forget gate : cell state'inde daha fazla gerekli olmayan bilgileri siler.\n",
        "        2. input gate :  cell state'ine eklenecek gerekli yeni bilgiler input gate sayesinde yüklenir.\n",
        "        3. output gate : cell state'ine eklenecek gerekli yeni bilgiler aynı zamanda output gate sayesinde yüklenebilir.\n",
        "\n",
        "![](https://drive.google.com/uc?export=view&id=1glo-eAOhIovNgauQ5IozknbUG9cZZEzj)"
      ]
    },
    {
      "cell_type": "markdown",
      "metadata": {
        "id": "f2U64qk6QhzV"
      },
      "source": [
        "# 5.Implementing LSTM"
      ]
    },
    {
      "cell_type": "markdown",
      "metadata": {
        "id": "CbbkpU4OQ1mD"
      },
      "source": [
        "## 5.1 Mount Drive"
      ]
    },
    {
      "cell_type": "code",
      "metadata": {
        "colab": {
          "base_uri": "https://localhost:8080/"
        },
        "id": "uzHM9SvnQNBs",
        "outputId": "9e52ede7-efa0-4848-cfa1-479c1e9fe24c"
      },
      "source": [
        "from google.colab import drive\n",
        "drive.mount(\"/content/drive\")"
      ],
      "execution_count": null,
      "outputs": [
        {
          "output_type": "stream",
          "text": [
            "Mounted at /content/drive\n"
          ],
          "name": "stdout"
        }
      ]
    },
    {
      "cell_type": "markdown",
      "metadata": {
        "id": "CXEdagmfRBe6"
      },
      "source": [
        "## 5.2 Download Dataset \n",
        "* Dataset is from Kaggle and it is called US baby names\n",
        "* So i will use kaggle api to download *dataset*"
      ]
    },
    {
      "cell_type": "markdown",
      "metadata": {
        "id": "-Z6FZFpmULpf"
      },
      "source": [
        "*Kaggle api dosyasına bağlanma*"
      ]
    },
    {
      "cell_type": "code",
      "metadata": {
        "id": "xdopwbWFQ_zs"
      },
      "source": [
        "import os\n",
        "os.environ['KAGGLE_CONFIG_DIR'] = \"/content/drive/My Drive/Kaggle\""
      ],
      "execution_count": null,
      "outputs": []
    },
    {
      "cell_type": "markdown",
      "metadata": {
        "id": "KgwP0oioUFxw"
      },
      "source": [
        "*Gerekli klasörün içine girme*"
      ]
    },
    {
      "cell_type": "code",
      "metadata": {
        "colab": {
          "base_uri": "https://localhost:8080/",
          "height": 35
        },
        "id": "DP_Tb18FR8fM",
        "outputId": "953695fc-5211-43d2-8beb-cf3255da9c77"
      },
      "source": [
        "pwd"
      ],
      "execution_count": null,
      "outputs": [
        {
          "output_type": "execute_result",
          "data": {
            "application/vnd.google.colaboratory.intrinsic+json": {
              "type": "string"
            },
            "text/plain": [
              "'/content'"
            ]
          },
          "metadata": {
            "tags": []
          },
          "execution_count": 4
        }
      ]
    },
    {
      "cell_type": "code",
      "metadata": {
        "colab": {
          "base_uri": "https://localhost:8080/"
        },
        "id": "osTvbEZ1SCqD",
        "outputId": "bfeccfde-29be-47d0-be0a-19e24899b5da"
      },
      "source": [
        "%cd /content/drive/MyDrive/'Tasarım Süreçleri'/'Colab Notebooks'"
      ],
      "execution_count": null,
      "outputs": [
        {
          "output_type": "stream",
          "text": [
            "/content/drive/MyDrive/Tasarım Süreçleri/Colab Notebooks\n"
          ],
          "name": "stdout"
        }
      ]
    },
    {
      "cell_type": "code",
      "metadata": {
        "colab": {
          "base_uri": "https://localhost:8080/",
          "height": 35
        },
        "id": "D-0-R9JBSVG0",
        "outputId": "f8613797-2a05-4e7a-9b1e-24c1b6a5aaca"
      },
      "source": [
        "pwd"
      ],
      "execution_count": null,
      "outputs": [
        {
          "output_type": "execute_result",
          "data": {
            "application/vnd.google.colaboratory.intrinsic+json": {
              "type": "string"
            },
            "text/plain": [
              "'/content/drive/MyDrive/Tasarım Süreçleri/Colab Notebooks'"
            ]
          },
          "metadata": {
            "tags": []
          },
          "execution_count": 13
        }
      ]
    },
    {
      "cell_type": "markdown",
      "metadata": {
        "id": "cufjU8mVUTls"
      },
      "source": [
        "*Veri setinin yer alacağı bir klasör oluşturma*"
      ]
    },
    {
      "cell_type": "code",
      "metadata": {
        "id": "UE-Lxj0sTI2j"
      },
      "source": [
        "!mkdir dataset"
      ],
      "execution_count": null,
      "outputs": []
    },
    {
      "cell_type": "markdown",
      "metadata": {
        "id": "K0SbT68sUeOA"
      },
      "source": [
        "*Klasörün içine girme*"
      ]
    },
    {
      "cell_type": "code",
      "metadata": {
        "colab": {
          "base_uri": "https://localhost:8080/"
        },
        "id": "Eu-iQRuaT52d",
        "outputId": "4884035f-e670-468b-9ccf-c8ba26e3376d"
      },
      "source": [
        "cd dataset"
      ],
      "execution_count": null,
      "outputs": [
        {
          "output_type": "stream",
          "text": [
            "/content/drive/MyDrive/Tasarım Süreçleri/Colab Notebooks/dataset\n"
          ],
          "name": "stdout"
        }
      ]
    },
    {
      "cell_type": "markdown",
      "metadata": {
        "id": "85oZ9RzvUii0"
      },
      "source": [
        "*Kaggle api'ni kullanarak veri setini indirme*"
      ]
    },
    {
      "cell_type": "code",
      "metadata": {
        "colab": {
          "base_uri": "https://localhost:8080/"
        },
        "id": "OP7X8u6eSo9E",
        "outputId": "0ee15bdf-3638-43a6-8e92-283ce17c3a12"
      },
      "source": [
        "!kaggle datasets download -d kaggle/us-baby-names"
      ],
      "execution_count": null,
      "outputs": [
        {
          "output_type": "stream",
          "text": [
            "Downloading us-baby-names.zip to /content/drive/My Drive/Tasarım Süreçleri/Colab Notebooks\n",
            " 94% 163M/173M [00:01<00:00, 133MB/s]\n",
            "100% 173M/173M [00:01<00:00, 143MB/s]\n"
          ],
          "name": "stdout"
        }
      ]
    },
    {
      "cell_type": "markdown",
      "metadata": {
        "id": "8Phtb1JUUuDM"
      },
      "source": [
        "*Dataset zip dosyası içinde gelir onu unzipleyip zip dosyasını silme*"
      ]
    },
    {
      "cell_type": "code",
      "metadata": {
        "colab": {
          "base_uri": "https://localhost:8080/"
        },
        "id": "uRSS1cwHTAlG",
        "outputId": "3c133d9e-4ce5-47b5-c73e-30bd6bccddc1"
      },
      "source": [
        "#unzipping the zip files and deleting the zip files\n",
        "!unzip \\*.zip  && rm *.zip"
      ],
      "execution_count": null,
      "outputs": [
        {
          "output_type": "stream",
          "text": [
            "Archive:  us-baby-names.zip\n",
            "  inflating: NationalNames.csv       \n",
            "  inflating: NationalReadMe.pdf      \n",
            "  inflating: StateNames.csv          \n",
            "  inflating: StateReadMe.pdf         \n",
            "  inflating: database.sqlite         \n",
            "  inflating: hashes.txt              \n"
          ],
          "name": "stdout"
        }
      ]
    },
    {
      "cell_type": "code",
      "metadata": {
        "colab": {
          "base_uri": "https://localhost:8080/"
        },
        "id": "OYQya3ecTMwb",
        "outputId": "be217737-3667-4d76-fd53-14add5fa9ac4"
      },
      "source": [
        "!ls"
      ],
      "execution_count": null,
      "outputs": [
        {
          "output_type": "stream",
          "text": [
            "database.sqlite  NationalNames.csv   StateNames.csv\n",
            "hashes.txt\t NationalReadMe.pdf  StateReadMe.pdf\n"
          ],
          "name": "stdout"
        }
      ]
    },
    {
      "cell_type": "code",
      "metadata": {
        "colab": {
          "base_uri": "https://localhost:8080/",
          "height": 35
        },
        "id": "4EfsEwxTTN6a",
        "outputId": "ce98cece-95e0-42db-db89-d961784920bc"
      },
      "source": [
        "pwd"
      ],
      "execution_count": null,
      "outputs": [
        {
          "output_type": "execute_result",
          "data": {
            "application/vnd.google.colaboratory.intrinsic+json": {
              "type": "string"
            },
            "text/plain": [
              "'/content/drive/My Drive/Tasarım Süreçleri/Colab Notebooks/dataset'"
            ]
          },
          "metadata": {
            "tags": []
          },
          "execution_count": 33
        }
      ]
    },
    {
      "cell_type": "code",
      "metadata": {
        "colab": {
          "base_uri": "https://localhost:8080/"
        },
        "id": "dDt81TnIU9iE",
        "outputId": "89c60a66-88ad-467b-b685-8cf8e7edbe2f"
      },
      "source": [
        "cd Colab\\ Notebooks"
      ],
      "execution_count": null,
      "outputs": [
        {
          "output_type": "stream",
          "text": [
            "/content/drive/My Drive/Tasarım Süreçleri/Colab Notebooks\n"
          ],
          "name": "stdout"
        }
      ]
    },
    {
      "cell_type": "markdown",
      "metadata": {
        "id": "njF18dWVsXSi"
      },
      "source": [
        "## 5.3 Import Libraries & Dataset"
      ]
    },
    {
      "cell_type": "markdown",
      "metadata": {
        "id": "Ipyc8Pjis4Rt"
      },
      "source": [
        "*Import libraries*"
      ]
    },
    {
      "cell_type": "code",
      "metadata": {
        "id": "0wHbj9-JU-yb"
      },
      "source": [
        "import pandas as pd\n",
        "import numpy as np\n",
        "import matplotlib.pyplot as plt"
      ],
      "execution_count": null,
      "outputs": []
    },
    {
      "cell_type": "markdown",
      "metadata": {
        "id": "ykLbkePesuyK"
      },
      "source": [
        "*Import dataset*"
      ]
    },
    {
      "cell_type": "code",
      "metadata": {
        "id": "uCHPyhYRsr59"
      },
      "source": [
        "data=pd.read_csv(\"./dataset/NationalNames.csv\")"
      ],
      "execution_count": null,
      "outputs": []
    },
    {
      "cell_type": "markdown",
      "metadata": {
        "id": "ZFSaeP6rt5TW"
      },
      "source": [
        "## 5.4 Analyze Dataset"
      ]
    },
    {
      "cell_type": "code",
      "metadata": {
        "colab": {
          "base_uri": "https://localhost:8080/"
        },
        "id": "J_C71AMJtHXn",
        "outputId": "e9987683-d557-4a8e-955c-9f2e934bd294"
      },
      "source": [
        "data.info()"
      ],
      "execution_count": null,
      "outputs": [
        {
          "output_type": "stream",
          "text": [
            "<class 'pandas.core.frame.DataFrame'>\n",
            "RangeIndex: 1825433 entries, 0 to 1825432\n",
            "Data columns (total 5 columns):\n",
            " #   Column  Dtype \n",
            "---  ------  ----- \n",
            " 0   Id      int64 \n",
            " 1   Name    object\n",
            " 2   Year    int64 \n",
            " 3   Gender  object\n",
            " 4   Count   int64 \n",
            "dtypes: int64(3), object(2)\n",
            "memory usage: 69.6+ MB\n"
          ],
          "name": "stdout"
        }
      ]
    },
    {
      "cell_type": "code",
      "metadata": {
        "colab": {
          "base_uri": "https://localhost:8080/"
        },
        "id": "6vyBGOlCt2mM",
        "outputId": "00d832e3-9b17-40aa-c113-2b2213d415aa"
      },
      "source": [
        "data.shape"
      ],
      "execution_count": null,
      "outputs": [
        {
          "output_type": "execute_result",
          "data": {
            "text/plain": [
              "(1825433, 5)"
            ]
          },
          "metadata": {
            "tags": []
          },
          "execution_count": 51
        }
      ]
    },
    {
      "cell_type": "code",
      "metadata": {
        "colab": {
          "base_uri": "https://localhost:8080/",
          "height": 195
        },
        "id": "Wf_eSKWPuJeO",
        "outputId": "cf1e9a45-adda-465b-9ffe-e594d47ed38c"
      },
      "source": [
        "data.head()"
      ],
      "execution_count": null,
      "outputs": [
        {
          "output_type": "execute_result",
          "data": {
            "text/html": [
              "<div>\n",
              "<style scoped>\n",
              "    .dataframe tbody tr th:only-of-type {\n",
              "        vertical-align: middle;\n",
              "    }\n",
              "\n",
              "    .dataframe tbody tr th {\n",
              "        vertical-align: top;\n",
              "    }\n",
              "\n",
              "    .dataframe thead th {\n",
              "        text-align: right;\n",
              "    }\n",
              "</style>\n",
              "<table border=\"1\" class=\"dataframe\">\n",
              "  <thead>\n",
              "    <tr style=\"text-align: right;\">\n",
              "      <th></th>\n",
              "      <th>Id</th>\n",
              "      <th>Name</th>\n",
              "      <th>Year</th>\n",
              "      <th>Gender</th>\n",
              "      <th>Count</th>\n",
              "    </tr>\n",
              "  </thead>\n",
              "  <tbody>\n",
              "    <tr>\n",
              "      <th>0</th>\n",
              "      <td>1</td>\n",
              "      <td>Mary</td>\n",
              "      <td>1880</td>\n",
              "      <td>F</td>\n",
              "      <td>7065</td>\n",
              "    </tr>\n",
              "    <tr>\n",
              "      <th>1</th>\n",
              "      <td>2</td>\n",
              "      <td>Anna</td>\n",
              "      <td>1880</td>\n",
              "      <td>F</td>\n",
              "      <td>2604</td>\n",
              "    </tr>\n",
              "    <tr>\n",
              "      <th>2</th>\n",
              "      <td>3</td>\n",
              "      <td>Emma</td>\n",
              "      <td>1880</td>\n",
              "      <td>F</td>\n",
              "      <td>2003</td>\n",
              "    </tr>\n",
              "    <tr>\n",
              "      <th>3</th>\n",
              "      <td>4</td>\n",
              "      <td>Elizabeth</td>\n",
              "      <td>1880</td>\n",
              "      <td>F</td>\n",
              "      <td>1939</td>\n",
              "    </tr>\n",
              "    <tr>\n",
              "      <th>4</th>\n",
              "      <td>5</td>\n",
              "      <td>Minnie</td>\n",
              "      <td>1880</td>\n",
              "      <td>F</td>\n",
              "      <td>1746</td>\n",
              "    </tr>\n",
              "  </tbody>\n",
              "</table>\n",
              "</div>"
            ],
            "text/plain": [
              "   Id       Name  Year Gender  Count\n",
              "0   1       Mary  1880      F   7065\n",
              "1   2       Anna  1880      F   2604\n",
              "2   3       Emma  1880      F   2003\n",
              "3   4  Elizabeth  1880      F   1939\n",
              "4   5     Minnie  1880      F   1746"
            ]
          },
          "metadata": {
            "tags": []
          },
          "execution_count": 54
        }
      ]
    },
    {
      "cell_type": "markdown",
      "metadata": {
        "id": "LBFywag43lDC"
      },
      "source": [
        "## 5.5 Preprocessing Data"
      ]
    },
    {
      "cell_type": "markdown",
      "metadata": {
        "id": "pCMx_i3FvjF6"
      },
      "source": [
        "*Label encoder for gender column*"
      ]
    },
    {
      "cell_type": "code",
      "metadata": {
        "id": "SsiNjrisuOAI"
      },
      "source": [
        "data['Gender']=data['Gender'].astype('category').cat.codes"
      ],
      "execution_count": null,
      "outputs": []
    },
    {
      "cell_type": "code",
      "metadata": {
        "colab": {
          "base_uri": "https://localhost:8080/",
          "height": 195
        },
        "id": "4C8Mm4z5unkF",
        "outputId": "e7b05ac9-1776-4d05-d07a-c66f8255150b"
      },
      "source": [
        "data.head()"
      ],
      "execution_count": null,
      "outputs": [
        {
          "output_type": "execute_result",
          "data": {
            "text/html": [
              "<div>\n",
              "<style scoped>\n",
              "    .dataframe tbody tr th:only-of-type {\n",
              "        vertical-align: middle;\n",
              "    }\n",
              "\n",
              "    .dataframe tbody tr th {\n",
              "        vertical-align: top;\n",
              "    }\n",
              "\n",
              "    .dataframe thead th {\n",
              "        text-align: right;\n",
              "    }\n",
              "</style>\n",
              "<table border=\"1\" class=\"dataframe\">\n",
              "  <thead>\n",
              "    <tr style=\"text-align: right;\">\n",
              "      <th></th>\n",
              "      <th>Id</th>\n",
              "      <th>Name</th>\n",
              "      <th>Year</th>\n",
              "      <th>Gender</th>\n",
              "      <th>Count</th>\n",
              "    </tr>\n",
              "  </thead>\n",
              "  <tbody>\n",
              "    <tr>\n",
              "      <th>0</th>\n",
              "      <td>1</td>\n",
              "      <td>Mary</td>\n",
              "      <td>1880</td>\n",
              "      <td>0</td>\n",
              "      <td>7065</td>\n",
              "    </tr>\n",
              "    <tr>\n",
              "      <th>1</th>\n",
              "      <td>2</td>\n",
              "      <td>Anna</td>\n",
              "      <td>1880</td>\n",
              "      <td>0</td>\n",
              "      <td>2604</td>\n",
              "    </tr>\n",
              "    <tr>\n",
              "      <th>2</th>\n",
              "      <td>3</td>\n",
              "      <td>Emma</td>\n",
              "      <td>1880</td>\n",
              "      <td>0</td>\n",
              "      <td>2003</td>\n",
              "    </tr>\n",
              "    <tr>\n",
              "      <th>3</th>\n",
              "      <td>4</td>\n",
              "      <td>Elizabeth</td>\n",
              "      <td>1880</td>\n",
              "      <td>0</td>\n",
              "      <td>1939</td>\n",
              "    </tr>\n",
              "    <tr>\n",
              "      <th>4</th>\n",
              "      <td>5</td>\n",
              "      <td>Minnie</td>\n",
              "      <td>1880</td>\n",
              "      <td>0</td>\n",
              "      <td>1746</td>\n",
              "    </tr>\n",
              "  </tbody>\n",
              "</table>\n",
              "</div>"
            ],
            "text/plain": [
              "   Id       Name  Year  Gender  Count\n",
              "0   1       Mary  1880       0   7065\n",
              "1   2       Anna  1880       0   2604\n",
              "2   3       Emma  1880       0   2003\n",
              "3   4  Elizabeth  1880       0   1939\n",
              "4   5     Minnie  1880       0   1746"
            ]
          },
          "metadata": {
            "tags": []
          },
          "execution_count": 60
        }
      ]
    },
    {
      "cell_type": "markdown",
      "metadata": {
        "id": "amWjIKVWvoVq"
      },
      "source": [
        "*We only need unique names*"
      ]
    },
    {
      "cell_type": "code",
      "metadata": {
        "id": "Ik817Jh4vHM1"
      },
      "source": [
        "df= data.groupby('Name').mean()['Gender'].reset_index()"
      ],
      "execution_count": null,
      "outputs": []
    },
    {
      "cell_type": "code",
      "metadata": {
        "colab": {
          "base_uri": "https://localhost:8080/"
        },
        "id": "4gYSnNXsv_zK",
        "outputId": "793993bd-5817-4eeb-b32a-aac7614c6e4d"
      },
      "source": [
        "df.shape"
      ],
      "execution_count": null,
      "outputs": [
        {
          "output_type": "execute_result",
          "data": {
            "text/plain": [
              "(93889, 2)"
            ]
          },
          "metadata": {
            "tags": []
          },
          "execution_count": 62
        }
      ]
    },
    {
      "cell_type": "code",
      "metadata": {
        "colab": {
          "base_uri": "https://localhost:8080/",
          "height": 195
        },
        "id": "Q1jO_me8wBom",
        "outputId": "a0aa897e-b160-45f2-9c09-582646e16f08"
      },
      "source": [
        "df.head()"
      ],
      "execution_count": null,
      "outputs": [
        {
          "output_type": "execute_result",
          "data": {
            "text/html": [
              "<div>\n",
              "<style scoped>\n",
              "    .dataframe tbody tr th:only-of-type {\n",
              "        vertical-align: middle;\n",
              "    }\n",
              "\n",
              "    .dataframe tbody tr th {\n",
              "        vertical-align: top;\n",
              "    }\n",
              "\n",
              "    .dataframe thead th {\n",
              "        text-align: right;\n",
              "    }\n",
              "</style>\n",
              "<table border=\"1\" class=\"dataframe\">\n",
              "  <thead>\n",
              "    <tr style=\"text-align: right;\">\n",
              "      <th></th>\n",
              "      <th>Name</th>\n",
              "      <th>Gender</th>\n",
              "    </tr>\n",
              "  </thead>\n",
              "  <tbody>\n",
              "    <tr>\n",
              "      <th>0</th>\n",
              "      <td>Aaban</td>\n",
              "      <td>1.0</td>\n",
              "    </tr>\n",
              "    <tr>\n",
              "      <th>1</th>\n",
              "      <td>Aabha</td>\n",
              "      <td>0.0</td>\n",
              "    </tr>\n",
              "    <tr>\n",
              "      <th>2</th>\n",
              "      <td>Aabid</td>\n",
              "      <td>1.0</td>\n",
              "    </tr>\n",
              "    <tr>\n",
              "      <th>3</th>\n",
              "      <td>Aabriella</td>\n",
              "      <td>0.0</td>\n",
              "    </tr>\n",
              "    <tr>\n",
              "      <th>4</th>\n",
              "      <td>Aadam</td>\n",
              "      <td>1.0</td>\n",
              "    </tr>\n",
              "  </tbody>\n",
              "</table>\n",
              "</div>"
            ],
            "text/plain": [
              "        Name  Gender\n",
              "0      Aaban     1.0\n",
              "1      Aabha     0.0\n",
              "2      Aabid     1.0\n",
              "3  Aabriella     0.0\n",
              "4      Aadam     1.0"
            ]
          },
          "metadata": {
            "tags": []
          },
          "execution_count": 64
        }
      ]
    },
    {
      "cell_type": "markdown",
      "metadata": {
        "id": "4AcV9fd4wLn_"
      },
      "source": [
        "*Making gender's type int*"
      ]
    },
    {
      "cell_type": "code",
      "metadata": {
        "id": "JzVBn_MWwJv9"
      },
      "source": [
        "df['Gender']=df['Gender'].astype('int')"
      ],
      "execution_count": null,
      "outputs": []
    },
    {
      "cell_type": "code",
      "metadata": {
        "colab": {
          "base_uri": "https://localhost:8080/",
          "height": 195
        },
        "id": "COFLUHHdwbcF",
        "outputId": "30ff0c76-370b-457f-a425-0c2f14a8086a"
      },
      "source": [
        "df.head()"
      ],
      "execution_count": null,
      "outputs": [
        {
          "output_type": "execute_result",
          "data": {
            "text/html": [
              "<div>\n",
              "<style scoped>\n",
              "    .dataframe tbody tr th:only-of-type {\n",
              "        vertical-align: middle;\n",
              "    }\n",
              "\n",
              "    .dataframe tbody tr th {\n",
              "        vertical-align: top;\n",
              "    }\n",
              "\n",
              "    .dataframe thead th {\n",
              "        text-align: right;\n",
              "    }\n",
              "</style>\n",
              "<table border=\"1\" class=\"dataframe\">\n",
              "  <thead>\n",
              "    <tr style=\"text-align: right;\">\n",
              "      <th></th>\n",
              "      <th>Name</th>\n",
              "      <th>Gender</th>\n",
              "    </tr>\n",
              "  </thead>\n",
              "  <tbody>\n",
              "    <tr>\n",
              "      <th>0</th>\n",
              "      <td>Aaban</td>\n",
              "      <td>1</td>\n",
              "    </tr>\n",
              "    <tr>\n",
              "      <th>1</th>\n",
              "      <td>Aabha</td>\n",
              "      <td>0</td>\n",
              "    </tr>\n",
              "    <tr>\n",
              "      <th>2</th>\n",
              "      <td>Aabid</td>\n",
              "      <td>1</td>\n",
              "    </tr>\n",
              "    <tr>\n",
              "      <th>3</th>\n",
              "      <td>Aabriella</td>\n",
              "      <td>0</td>\n",
              "    </tr>\n",
              "    <tr>\n",
              "      <th>4</th>\n",
              "      <td>Aadam</td>\n",
              "      <td>1</td>\n",
              "    </tr>\n",
              "  </tbody>\n",
              "</table>\n",
              "</div>"
            ],
            "text/plain": [
              "        Name  Gender\n",
              "0      Aaban       1\n",
              "1      Aabha       0\n",
              "2      Aabid       1\n",
              "3  Aabriella       0\n",
              "4      Aadam       1"
            ]
          },
          "metadata": {
            "tags": []
          },
          "execution_count": 66
        }
      ]
    },
    {
      "cell_type": "code",
      "metadata": {
        "id": "S_Axg4aSwdEl"
      },
      "source": [
        "import string"
      ],
      "execution_count": null,
      "outputs": []
    },
    {
      "cell_type": "markdown",
      "metadata": {
        "id": "cmTjIt_hydZ3"
      },
      "source": [
        "*We need a list of alphabets to convert words to number*"
      ]
    },
    {
      "cell_type": "code",
      "metadata": {
        "colab": {
          "base_uri": "https://localhost:8080/"
        },
        "id": "5oD6pseyw432",
        "outputId": "b895f8cc-90b5-46ea-e689-14802d014349"
      },
      "source": [
        "letters=list(string.ascii_lowercase)\n",
        "letters"
      ],
      "execution_count": null,
      "outputs": [
        {
          "output_type": "execute_result",
          "data": {
            "text/plain": [
              "['a',\n",
              " 'b',\n",
              " 'c',\n",
              " 'd',\n",
              " 'e',\n",
              " 'f',\n",
              " 'g',\n",
              " 'h',\n",
              " 'i',\n",
              " 'j',\n",
              " 'k',\n",
              " 'l',\n",
              " 'm',\n",
              " 'n',\n",
              " 'o',\n",
              " 'p',\n",
              " 'q',\n",
              " 'r',\n",
              " 's',\n",
              " 't',\n",
              " 'u',\n",
              " 'v',\n",
              " 'w',\n",
              " 'x',\n",
              " 'y',\n",
              " 'z']"
            ]
          },
          "metadata": {
            "tags": []
          },
          "execution_count": 72
        }
      ]
    },
    {
      "cell_type": "markdown",
      "metadata": {
        "id": "LVmpR73iyxuu"
      },
      "source": [
        "*We can use vocab to encode letters to numbers*"
      ]
    },
    {
      "cell_type": "code",
      "metadata": {
        "colab": {
          "base_uri": "https://localhost:8080/"
        },
        "id": "oHKBXwRAw8o1",
        "outputId": "92ab486d-4fad-4876-e027-454b4075d167"
      },
      "source": [
        "vocab=dict(zip(letters,range(1,27)))\n",
        "vocab"
      ],
      "execution_count": null,
      "outputs": [
        {
          "output_type": "execute_result",
          "data": {
            "text/plain": [
              "{'a': 1,\n",
              " 'b': 2,\n",
              " 'c': 3,\n",
              " 'd': 4,\n",
              " 'e': 5,\n",
              " 'f': 6,\n",
              " 'g': 7,\n",
              " 'h': 8,\n",
              " 'i': 9,\n",
              " 'j': 10,\n",
              " 'k': 11,\n",
              " 'l': 12,\n",
              " 'm': 13,\n",
              " 'n': 14,\n",
              " 'o': 15,\n",
              " 'p': 16,\n",
              " 'q': 17,\n",
              " 'r': 18,\n",
              " 's': 19,\n",
              " 't': 20,\n",
              " 'u': 21,\n",
              " 'v': 22,\n",
              " 'w': 23,\n",
              " 'x': 24,\n",
              " 'y': 25,\n",
              " 'z': 26}"
            ]
          },
          "metadata": {
            "tags": []
          },
          "execution_count": 73
        }
      ]
    },
    {
      "cell_type": "markdown",
      "metadata": {
        "id": "YxaA5VW8yp9u"
      },
      "source": [
        "*We can use r_vocab to decode words*"
      ]
    },
    {
      "cell_type": "code",
      "metadata": {
        "colab": {
          "base_uri": "https://localhost:8080/"
        },
        "id": "kGX-ncGSxJOE",
        "outputId": "b1c540d0-4c5f-4c29-dd5f-33d2f410156f"
      },
      "source": [
        "r_vocab=dict(zip(range(1,27),letters))\n",
        "r_vocab"
      ],
      "execution_count": null,
      "outputs": [
        {
          "output_type": "execute_result",
          "data": {
            "text/plain": [
              "{1: 'a',\n",
              " 2: 'b',\n",
              " 3: 'c',\n",
              " 4: 'd',\n",
              " 5: 'e',\n",
              " 6: 'f',\n",
              " 7: 'g',\n",
              " 8: 'h',\n",
              " 9: 'i',\n",
              " 10: 'j',\n",
              " 11: 'k',\n",
              " 12: 'l',\n",
              " 13: 'm',\n",
              " 14: 'n',\n",
              " 15: 'o',\n",
              " 16: 'p',\n",
              " 17: 'q',\n",
              " 18: 'r',\n",
              " 19: 's',\n",
              " 20: 't',\n",
              " 21: 'u',\n",
              " 22: 'v',\n",
              " 23: 'w',\n",
              " 24: 'x',\n",
              " 25: 'y',\n",
              " 26: 'z'}"
            ]
          },
          "metadata": {
            "tags": []
          },
          "execution_count": 74
        }
      ]
    },
    {
      "cell_type": "markdown",
      "metadata": {
        "id": "UPLAp-Y-yOS5"
      },
      "source": [
        "*This function will return every letter in name column to number and save the result to dataframe*"
      ]
    },
    {
      "cell_type": "code",
      "metadata": {
        "id": "pR4CHj0mxpds"
      },
      "source": [
        "def word_to_number():\n",
        "  for i  in range(0,df.shape[0]):\n",
        "    seq=[ vocab[letters.lower()] for letters in df['Name'][i]]\n",
        "    df['Name'][i]=seq"
      ],
      "execution_count": null,
      "outputs": []
    },
    {
      "cell_type": "code",
      "metadata": {
        "colab": {
          "base_uri": "https://localhost:8080/"
        },
        "id": "RyVHHWG6y735",
        "outputId": "4168240a-337e-413e-e16a-2c98723c4482"
      },
      "source": [
        "# to convert our names to list of equivalent numbers\n",
        "word_to_number()"
      ],
      "execution_count": null,
      "outputs": [
        {
          "output_type": "stream",
          "text": [
            "/usr/local/lib/python3.7/dist-packages/ipykernel_launcher.py:4: SettingWithCopyWarning: \n",
            "A value is trying to be set on a copy of a slice from a DataFrame\n",
            "\n",
            "See the caveats in the documentation: https://pandas.pydata.org/pandas-docs/stable/user_guide/indexing.html#returning-a-view-versus-a-copy\n",
            "  after removing the cwd from sys.path.\n"
          ],
          "name": "stderr"
        }
      ]
    },
    {
      "cell_type": "markdown",
      "metadata": {
        "id": "ft3JxzRDzPRm"
      },
      "source": [
        "*Let's see how our dataframe looks like after encoding*"
      ]
    },
    {
      "cell_type": "code",
      "metadata": {
        "colab": {
          "base_uri": "https://localhost:8080/",
          "height": 195
        },
        "id": "cNxjnYIIzGEl",
        "outputId": "e5e324f1-f0ea-46d8-a12c-1353ad5ba94c"
      },
      "source": [
        "df.head()"
      ],
      "execution_count": null,
      "outputs": [
        {
          "output_type": "execute_result",
          "data": {
            "text/html": [
              "<div>\n",
              "<style scoped>\n",
              "    .dataframe tbody tr th:only-of-type {\n",
              "        vertical-align: middle;\n",
              "    }\n",
              "\n",
              "    .dataframe tbody tr th {\n",
              "        vertical-align: top;\n",
              "    }\n",
              "\n",
              "    .dataframe thead th {\n",
              "        text-align: right;\n",
              "    }\n",
              "</style>\n",
              "<table border=\"1\" class=\"dataframe\">\n",
              "  <thead>\n",
              "    <tr style=\"text-align: right;\">\n",
              "      <th></th>\n",
              "      <th>Name</th>\n",
              "      <th>Gender</th>\n",
              "    </tr>\n",
              "  </thead>\n",
              "  <tbody>\n",
              "    <tr>\n",
              "      <th>0</th>\n",
              "      <td>[1, 1, 2, 1, 14]</td>\n",
              "      <td>1</td>\n",
              "    </tr>\n",
              "    <tr>\n",
              "      <th>1</th>\n",
              "      <td>[1, 1, 2, 8, 1]</td>\n",
              "      <td>0</td>\n",
              "    </tr>\n",
              "    <tr>\n",
              "      <th>2</th>\n",
              "      <td>[1, 1, 2, 9, 4]</td>\n",
              "      <td>1</td>\n",
              "    </tr>\n",
              "    <tr>\n",
              "      <th>3</th>\n",
              "      <td>[1, 1, 2, 18, 9, 5, 12, 12, 1]</td>\n",
              "      <td>0</td>\n",
              "    </tr>\n",
              "    <tr>\n",
              "      <th>4</th>\n",
              "      <td>[1, 1, 4, 1, 13]</td>\n",
              "      <td>1</td>\n",
              "    </tr>\n",
              "  </tbody>\n",
              "</table>\n",
              "</div>"
            ],
            "text/plain": [
              "                             Name  Gender\n",
              "0                [1, 1, 2, 1, 14]       1\n",
              "1                 [1, 1, 2, 8, 1]       0\n",
              "2                 [1, 1, 2, 9, 4]       1\n",
              "3  [1, 1, 2, 18, 9, 5, 12, 12, 1]       0\n",
              "4                [1, 1, 4, 1, 13]       1"
            ]
          },
          "metadata": {
            "tags": []
          },
          "execution_count": 77
        }
      ]
    },
    {
      "cell_type": "markdown",
      "metadata": {
        "id": "6MaDIXNSzsO1"
      },
      "source": [
        "*We need to determine the number of boxes in lstm. We will send each letter to one box, hence the number of letters has an impact on the number of boxes. If we use the maximum number of letters in a name then there will be lots of zeros which will bring loss and our accuracy is going to drop.*\n",
        "\n",
        "*We can look histogrom of name length then we can decide the best number for boxes*"
      ]
    },
    {
      "cell_type": "code",
      "metadata": {
        "id": "2B8bYSX5zW8s"
      },
      "source": [
        "X=df['Name'].values\n",
        "Y=df['Gender'].values"
      ],
      "execution_count": null,
      "outputs": []
    },
    {
      "cell_type": "code",
      "metadata": {
        "id": "xofnsjDMzqcN"
      },
      "source": [
        "name_length=[len(X[i]) for i in range (0, df.shape[0])]"
      ],
      "execution_count": null,
      "outputs": []
    },
    {
      "cell_type": "code",
      "metadata": {
        "colab": {
          "base_uri": "https://localhost:8080/"
        },
        "id": "WNhwvb3a1x1W",
        "outputId": "27ed61fd-f524-4f90-e11c-f6f1a81a16fb"
      },
      "source": [
        "len(name_length)"
      ],
      "execution_count": null,
      "outputs": [
        {
          "output_type": "execute_result",
          "data": {
            "text/plain": [
              "93889"
            ]
          },
          "metadata": {
            "tags": []
          },
          "execution_count": 88
        }
      ]
    },
    {
      "cell_type": "code",
      "metadata": {
        "colab": {
          "base_uri": "https://localhost:8080/",
          "height": 265
        },
        "id": "ECLLzmLO10xs",
        "outputId": "4158741b-59a8-490e-c90c-a50a2eba8648"
      },
      "source": [
        "plt.hist(name_length,bins=20)\n",
        "plt.show()"
      ],
      "execution_count": null,
      "outputs": [
        {
          "output_type": "display_data",
          "data": {
            "image/png": "[encoded data removed]",
            "text/plain": [
              "<Figure size 432x288 with 1 Axes>"
            ]
          },
          "metadata": {
            "tags": [],
            "needs_background": "light"
          }
        }
      ]
    },
    {
      "cell_type": "markdown",
      "metadata": {
        "id": "3t_SQwn32xdL"
      },
      "source": [
        "*We decided to have 10 boxes so next step we need to convert each names to 10 digit row*"
      ]
    },
    {
      "cell_type": "code",
      "metadata": {
        "id": "1AHwCDdp2QAW"
      },
      "source": [
        "from keras.preprocessing.sequence import pad_sequences\n",
        "x=pad_sequences(df['Name'].values,\n",
        "                maxlen=10,\n",
        "                padding='pre')"
      ],
      "execution_count": null,
      "outputs": []
    },
    {
      "cell_type": "code",
      "metadata": {
        "colab": {
          "base_uri": "https://localhost:8080/"
        },
        "id": "0qUA9DWn3WXF",
        "outputId": "bbe2d4df-f929-467c-e24b-4399a7fb971d"
      },
      "source": [
        "x"
      ],
      "execution_count": null,
      "outputs": [
        {
          "output_type": "execute_result",
          "data": {
            "text/plain": [
              "array([[ 0,  0,  0, ...,  2,  1, 14],\n",
              "       [ 0,  0,  0, ...,  2,  8,  1],\n",
              "       [ 0,  0,  0, ...,  2,  9,  4],\n",
              "       ...,\n",
              "       [ 0,  0,  0, ..., 14, 14,  1],\n",
              "       [ 0,  0,  0, ..., 25, 15, 14],\n",
              "       [ 0,  0,  0, ..., 25, 26, 24]], dtype=int32)"
            ]
          },
          "metadata": {
            "tags": []
          },
          "execution_count": 92
        }
      ]
    },
    {
      "cell_type": "code",
      "metadata": {
        "colab": {
          "base_uri": "https://localhost:8080/"
        },
        "id": "5hoHBLtR3Xi0",
        "outputId": "5bab7115-bc9a-4657-9928-97e077285812"
      },
      "source": [
        "x.shape"
      ],
      "execution_count": null,
      "outputs": [
        {
          "output_type": "execute_result",
          "data": {
            "text/plain": [
              "(93889, 10)"
            ]
          },
          "metadata": {
            "tags": []
          },
          "execution_count": 93
        }
      ]
    },
    {
      "cell_type": "markdown",
      "metadata": {
        "id": "6jJE8otC3dH6"
      },
      "source": [
        "## 5.6 Creating Model"
      ]
    },
    {
      "cell_type": "code",
      "metadata": {
        "id": "Y1yVnkZE3aRE"
      },
      "source": [
        "from keras.layers import Input,Embedding,Dense,LSTM\n",
        "from keras.models import Model"
      ],
      "execution_count": null,
      "outputs": []
    },
    {
      "cell_type": "code",
      "metadata": {
        "colab": {
          "base_uri": "https://localhost:8080/"
        },
        "id": "aLEsjEHD4Hu3",
        "outputId": "2010b75b-69f4-4a76-fc95-096cdc1a7465"
      },
      "source": [
        "vocab_size=len(vocab)+1\n",
        "vocab_size"
      ],
      "execution_count": null,
      "outputs": [
        {
          "output_type": "execute_result",
          "data": {
            "text/plain": [
              "27"
            ]
          },
          "metadata": {
            "tags": []
          },
          "execution_count": 95
        }
      ]
    },
    {
      "cell_type": "code",
      "metadata": {
        "id": "DZsSUGYr3xXU"
      },
      "source": [
        "# input layer\n",
        "inp=Input(shape=(10,))\n",
        "# embedding layer \n",
        "emn=Embedding(input_dim=vocab_size,\n",
        "              output_dim =5 )(inp)\n",
        "# lstm layers\n",
        "lstm1=LSTM(units=32,\n",
        "           return_sequences=True)(emn)\n",
        "lstm2=LSTM(units=64)(lstm1)\n",
        "\n",
        "out=Dense(units=1,\n",
        "          activation='sigmoid')(lstm2)\n",
        "\n",
        "my_model=Model(inputs=inp,\n",
        "               outputs=out)"
      ],
      "execution_count": null,
      "outputs": []
    },
    {
      "cell_type": "code",
      "metadata": {
        "colab": {
          "base_uri": "https://localhost:8080/"
        },
        "id": "VLtR62m95N2v",
        "outputId": "a91d2bcb-652e-4964-9df7-9220fbc83886"
      },
      "source": [
        "my_model.summary()"
      ],
      "execution_count": null,
      "outputs": [
        {
          "output_type": "stream",
          "text": [
            "Model: \"model\"\n",
            "_________________________________________________________________\n",
            "Layer (type)                 Output Shape              Param #   \n",
            "=================================================================\n",
            "input_2 (InputLayer)         [(None, 10)]              0         \n",
            "_________________________________________________________________\n",
            "embedding_1 (Embedding)      (None, 10, 5)             135       \n",
            "_________________________________________________________________\n",
            "lstm_1 (LSTM)                (None, 10, 32)            4864      \n",
            "_________________________________________________________________\n",
            "lstm_2 (LSTM)                (None, 64)                24832     \n",
            "_________________________________________________________________\n",
            "dense (Dense)                (None, 1)                 65        \n",
            "=================================================================\n",
            "Total params: 29,896\n",
            "Trainable params: 29,896\n",
            "Non-trainable params: 0\n",
            "_________________________________________________________________\n"
          ],
          "name": "stdout"
        }
      ]
    },
    {
      "cell_type": "markdown",
      "metadata": {
        "id": "JK_FfrTH5dtz"
      },
      "source": [
        "## 5.7 Compile & Train Model"
      ]
    },
    {
      "cell_type": "code",
      "metadata": {
        "id": "yZ3V3gfP5SZs"
      },
      "source": [
        "my_model.compile(optimizer='adam',\n",
        "                 loss='binary_crossentropy',\n",
        "                 metrics=['acc'])"
      ],
      "execution_count": null,
      "outputs": []
    },
    {
      "cell_type": "code",
      "metadata": {
        "colab": {
          "base_uri": "https://localhost:8080/"
        },
        "id": "se0Ydcjf59SE",
        "outputId": "0e5ecbfc-37d6-4c21-9d72-d1182ba1213c"
      },
      "source": [
        "his=my_model.fit(x,Y,epochs=10, batch_size=256,validation_split=0.2)"
      ],
      "execution_count": null,
      "outputs": [
        {
          "output_type": "stream",
          "text": [
            "Epoch 1/10\n",
            "294/294 [==============================] - 14s 37ms/step - loss: 0.6071 - acc: 0.6919 - val_loss: 0.4121 - val_acc: 0.8125\n",
            "Epoch 2/10\n",
            "294/294 [==============================] - 10s 34ms/step - loss: 0.4155 - acc: 0.8065 - val_loss: 0.3880 - val_acc: 0.8217\n",
            "Epoch 3/10\n",
            "294/294 [==============================] - 10s 34ms/step - loss: 0.3930 - acc: 0.8137 - val_loss: 0.3869 - val_acc: 0.8221\n",
            "Epoch 4/10\n",
            "294/294 [==============================] - 10s 34ms/step - loss: 0.3897 - acc: 0.8154 - val_loss: 0.3844 - val_acc: 0.8263\n",
            "Epoch 5/10\n",
            "294/294 [==============================] - 10s 34ms/step - loss: 0.3877 - acc: 0.8183 - val_loss: 0.3823 - val_acc: 0.8237\n",
            "Epoch 6/10\n",
            "294/294 [==============================] - 10s 34ms/step - loss: 0.3844 - acc: 0.8186 - val_loss: 0.3811 - val_acc: 0.8221\n",
            "Epoch 7/10\n",
            "294/294 [==============================] - 10s 34ms/step - loss: 0.3799 - acc: 0.8220 - val_loss: 0.3774 - val_acc: 0.8288\n",
            "Epoch 8/10\n",
            "294/294 [==============================] - 10s 34ms/step - loss: 0.3769 - acc: 0.8241 - val_loss: 0.3739 - val_acc: 0.8288\n",
            "Epoch 9/10\n",
            "294/294 [==============================] - 10s 34ms/step - loss: 0.3782 - acc: 0.8215 - val_loss: 0.3732 - val_acc: 0.8293\n",
            "Epoch 10/10\n",
            "294/294 [==============================] - 10s 34ms/step - loss: 0.3700 - acc: 0.8282 - val_loss: 0.3672 - val_acc: 0.8293\n"
          ],
          "name": "stdout"
        }
      ]
    },
    {
      "cell_type": "markdown",
      "metadata": {
        "id": "qh1kQiOG65pA"
      },
      "source": [
        "## 5.8 Visualize Result"
      ]
    },
    {
      "cell_type": "code",
      "metadata": {
        "id": "Xy0Kngq28mBB"
      },
      "source": [
        "plt.style.use('seaborn-darkgrid')"
      ],
      "execution_count": null,
      "outputs": []
    },
    {
      "cell_type": "markdown",
      "metadata": {
        "id": "cBxakmfM8Xi4"
      },
      "source": [
        "*Accuracy and Validation Accuracy*"
      ]
    },
    {
      "cell_type": "code",
      "metadata": {
        "colab": {
          "base_uri": "https://localhost:8080/",
          "height": 316
        },
        "id": "u7HVu4-u6LOt",
        "outputId": "8dfedc62-46f3-43dd-e63b-bda5c0aba00a"
      },
      "source": [
        "fig, ax=plt.subplots(nrows=1,ncols=1,figsize=(10,5))\n",
        "ax.plot(his.history['acc'],label='Accuracy')\n",
        "ax.plot(his.history['val_acc'],label='Validation Accuracy')\n",
        "ax.legend()\n",
        "fig.show()"
      ],
      "execution_count": null,
      "outputs": [
        {
          "output_type": "display_data",
          "data": {
            "image/png": "[encoded data removed]",
            "text/plain": [
              "<Figure size 720x360 with 1 Axes>"
            ]
          },
          "metadata": {
            "tags": []
          }
        }
      ]
    },
    {
      "cell_type": "markdown",
      "metadata": {
        "id": "pqwvmmLA8bvw"
      },
      "source": [
        "*Loss and Validation Loss*"
      ]
    },
    {
      "cell_type": "code",
      "metadata": {
        "colab": {
          "base_uri": "https://localhost:8080/",
          "height": 316
        },
        "id": "Q_8yS51p7YA1",
        "outputId": "76d08b46-999c-4ec2-f297-4f893a6f2764"
      },
      "source": [
        "fig, ax=plt.subplots(nrows=1,ncols=1,figsize=(10,5))\n",
        "ax.plot(his.history['loss'],label='Loss')\n",
        "ax.plot(his.history['val_loss'],label='Validation Loss')\n",
        "ax.legend()\n",
        "fig.show()"
      ],
      "execution_count": null,
      "outputs": [
        {
          "output_type": "display_data",
          "data": {
            "image/png": "[encoded data removed]",
            "text/plain": [
              "<Figure size 720x360 with 1 Axes>"
            ]
          },
          "metadata": {
            "tags": []
          }
        }
      ]
    },
    {
      "cell_type": "markdown",
      "metadata": {
        "id": "SnPQK91u9T7y"
      },
      "source": [
        "## 5.9 Predict for Random Name"
      ]
    },
    {
      "cell_type": "code",
      "metadata": {
        "id": "wIQoTiJF9bnU"
      },
      "source": [
        "def predict_name(name):\n",
        "  test_name=name.lower()\n",
        "  seq=[vocab[i] for i in test_name]\n",
        "  x_test=pad_sequences([seq],10)\n",
        "  y_pred=my_model.predict(x_test)\n",
        "  if y_pred < 0.5:\n",
        "    print(\"Name is female...\")\n",
        "  else:\n",
        "    print(\"Name is male...\")"
      ],
      "execution_count": null,
      "outputs": []
    },
    {
      "cell_type": "code",
      "metadata": {
        "colab": {
          "base_uri": "https://localhost:8080/"
        },
        "id": "trn0XJ4e9_6g",
        "outputId": "10b219f8-6ca8-435a-f384-1cecc188518e"
      },
      "source": [
        "predict_name('Ugur')"
      ],
      "execution_count": null,
      "outputs": [
        {
          "output_type": "stream",
          "text": [
            "Name is male...\n"
          ],
          "name": "stdout"
        }
      ]
    },
    {
      "cell_type": "code",
      "metadata": {
        "colab": {
          "base_uri": "https://localhost:8080/"
        },
        "id": "gCsAseSs-G8F",
        "outputId": "7c298264-1594-43a1-97cf-b2e1b188022d"
      },
      "source": [
        "predict_name('Ayse')"
      ],
      "execution_count": null,
      "outputs": [
        {
          "output_type": "stream",
          "text": [
            "Name is female...\n"
          ],
          "name": "stdout"
        }
      ]
    },
    {
      "cell_type": "code",
      "metadata": {
        "colab": {
          "base_uri": "https://localhost:8080/"
        },
        "id": "4n4gBVo8-LHs",
        "outputId": "51f1b678-7eb4-4ac8-9877-1b596f0ec88b"
      },
      "source": [
        "predict_name('Mustafa')"
      ],
      "execution_count": null,
      "outputs": [
        {
          "output_type": "stream",
          "text": [
            "Name is female...\n"
          ],
          "name": "stdout"
        }
      ]
    },
    {
      "cell_type": "code",
      "metadata": {
        "colab": {
          "base_uri": "https://localhost:8080/"
        },
        "id": "Y38iIhx2-YuE",
        "outputId": "ad2be787-95f7-46a0-f3f3-14d560c5603f"
      },
      "source": [
        "predict_name('Natasha')"
      ],
      "execution_count": null,
      "outputs": [
        {
          "output_type": "stream",
          "text": [
            "Name is female...\n"
          ],
          "name": "stdout"
        }
      ]
    },
    {
      "cell_type": "markdown",
      "metadata": {
        "id": "KdSP7mFd-6wr"
      },
      "source": [
        "# 6.LSTM Use Cases\n",
        "* name entity recognition\n",
        "* sentiment analysis\n",
        "* machine translation\n"
      ]
    }
  ]
}